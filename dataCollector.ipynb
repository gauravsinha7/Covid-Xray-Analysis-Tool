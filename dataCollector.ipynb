{
 "cells": [
  {
   "cell_type": "code",
   "execution_count": 19,
   "metadata": {},
   "outputs": [],
   "source": [
    "import pandas as pd\n",
    "import numpy as np\n",
    "import os, shutil"
   ]
  },
  {
   "cell_type": "code",
   "execution_count": 20,
   "metadata": {},
   "outputs": [],
   "source": [
    "metadata_path = '/Users/gauravsinha7/Desktop/Covid_Xray_Analysis_Tool/metadata.csv'\n",
    "\n",
    "df=pd.read_csv(metadata_path)\n",
    "\n",
    "#types we're interested in\n",
    "covid_patients=df['finding']=='COVID-19'\n",
    "CT=df['view']=='CT'\n",
    "PA=df['view']=='PA'\n",
    "\n",
    "# %%\n",
    "df[covid_patients & CT].shape\n",
    "df[covid_patients & PA].shape\n",
    "# %%\n",
    "PA_covid=df[covid_patients & PA]\n",
    "Others=df[~covid_patients & PA]\n",
    "covid_files=[files for files in PA_covid['filename']]\n",
    "other_files=[files for files in Others['filename']]"
   ]
  },
  {
   "cell_type": "code",
   "execution_count": 21,
   "metadata": {},
   "outputs": [],
   "source": [
    "#our test folder. manually included files via upload.\n",
    "test_files=[file for file in sorted(os.listdir('test'))]\n",
    "df_test=pd.DataFrame(test_files, columns=['filename'])"
   ]
  },
  {
   "cell_type": "code",
   "execution_count": 22,
   "metadata": {},
   "outputs": [],
   "source": [
    "#create data folder and positive & negative cases folder, and test folder\n",
    "destpath = 'data/covid','data/other'\n",
    "srcpath = 'covid-chestxray-dataset/images'\n",
    "\n",
    "for root, dirs, files in os.walk(srcpath):\n",
    "  if not os.path.isdir(destpath[0]):\n",
    "    os.makedirs(destpath[0])\n",
    "  if not os.path.isdir(destpath[1]):\n",
    "    os.makedirs(destpath[1])\n",
    "  if not os.path.isdir(destpath[2]):\n",
    "    os.makedirs(destpath[2])\n",
    "  for file in files:\n",
    "    if file in covid_files:\n",
    "      shutil.copy(os.path.join(root, file),destpath[0])\n",
    "    if file in other_files:\n",
    "      shutil.copy(os.path.join(root,file),destpath[1])\n",
    "    if file in test_files:"
   ]
  },
  {
   "cell_type": "code",
   "execution_count": 29,
   "metadata": {},
   "outputs": [
    {
     "name": "stdout",
     "output_type": "stream",
     "text": [
      "Number of images in Normal: 48 \n",
      "Number of images in Covid: 71\n"
     ]
    }
   ],
   "source": [
    "#Number of files\n",
    "path, dirs, files2 = os.walk(\"dataset/normal\").__next__()\n",
    "path, dirs, files1 = os.walk(\"dataset/covid\").__next__()\n",
    "print(\"Number of images in Normal: {}\".format(len(files2)),\"\\nNumber of images in Covid: {}\".format(len(files1)))"
   ]
  },
  {
   "cell_type": "code",
   "execution_count": null,
   "metadata": {},
   "outputs": [],
   "source": []
  }
 ],
 "metadata": {
  "kernelspec": {
   "display_name": "Python 3",
   "language": "python",
   "name": "python3"
  },
  "language_info": {
   "codemirror_mode": {
    "name": "ipython",
    "version": 3
   },
   "file_extension": ".py",
   "mimetype": "text/x-python",
   "name": "python",
   "nbconvert_exporter": "python",
   "pygments_lexer": "ipython3",
   "version": "3.7.4"
  }
 },
 "nbformat": 4,
 "nbformat_minor": 4
}
